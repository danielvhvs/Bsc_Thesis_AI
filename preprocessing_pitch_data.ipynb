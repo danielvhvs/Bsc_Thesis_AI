{
 "cells": [
  {
   "cell_type": "code",
   "execution_count": null,
   "id": "a683a70a",
   "metadata": {},
   "outputs": [],
   "source": [
    "import numpy as np\n",
    "\n",
    "def convert_undefined(fileIN,fileOUT):\n",
    "    with open(fileIN, 'r') as file:\n",
    "        # Read in the entire file as a string\n",
    "        text = file.read()\n",
    "\n",
    "    # Replace all occurrences of the old word with the new word\n",
    "    newText = text.replace(\"--undefined--\", str(0))\n",
    "    file.close()\n",
    "\n",
    "    with open(fileOUT, 'w') as file:\n",
    "        # Write the modified text back to the file\n",
    "        file.write(newText)\n",
    "    file.close()\n",
    "convert_undefined(\"pitch_data_questions.txt\",\"pitch_data_questions_modified.txt\")\n",
    "\n",
    "def read_file(fileName):\n",
    "    data = []\n",
    "    time = []\n",
    "    with open(fileName,\"r\") as file:\n",
    "        for line in file:\n",
    "            split = line.split()\n",
    "            sound = []\n",
    "            soundTime = []\n",
    "            for idx in range(len(split)//2):\n",
    "                soundTime.append(split[idx*2])\n",
    "                sound.append(split[idx*2+1])\n",
    "            data.append(sound)\n",
    "            time.append(soundTime)\n",
    "    return time,data\n",
    "\n",
    "def take_range(fileIN,fileOUT,beginBound,endBound,intervalTime=0.01):\n",
    "    time,data = read_file(fileIN)\n",
    "    begin = \n",
    "    newData = []\n",
    "    \n",
    "    "
   ]
  }
 ],
 "metadata": {
  "kernelspec": {
   "display_name": "Python 3",
   "language": "python",
   "name": "python3"
  },
  "language_info": {
   "codemirror_mode": {
    "name": "ipython",
    "version": 3
   },
   "file_extension": ".py",
   "mimetype": "text/x-python",
   "name": "python",
   "nbconvert_exporter": "python",
   "pygments_lexer": "ipython3",
   "version": "3.8.10"
  }
 },
 "nbformat": 4,
 "nbformat_minor": 5
}
