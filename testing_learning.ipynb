{
 "cells": [
  {
   "cell_type": "code",
   "execution_count": null,
   "id": "2bc7c55a",
   "metadata": {},
   "outputs": [],
   "source": [
    "# import everything\n",
    "%tesorflow_version 2.x\n",
    "import tensorflow as tf\n"
   ]
  },
  {
   "cell_type": "code",
   "execution_count": 1,
   "id": "e33be9be",
   "metadata": {},
   "outputs": [],
   "source": [
    "# test with tensorflow for RNNs\n"
   ]
  },
  {
   "cell_type": "code",
   "execution_count": null,
   "id": "7e8980a6",
   "metadata": {},
   "outputs": [],
   "source": [
    "# test with pynl "
   ]
  }
 ],
 "metadata": {
  "kernelspec": {
   "display_name": "Python 3",
   "language": "python",
   "name": "python3"
  },
  "language_info": {
   "codemirror_mode": {
    "name": "ipython",
    "version": 3
   },
   "file_extension": ".py",
   "mimetype": "text/x-python",
   "name": "python",
   "nbconvert_exporter": "python",
   "pygments_lexer": "ipython3",
   "version": "3.8.10"
  }
 },
 "nbformat": 4,
 "nbformat_minor": 5
}
