{
 "cells": [
  {
   "cell_type": "code",
   "execution_count": 1,
   "id": "6d5fa147",
   "metadata": {},
   "outputs": [
    {
     "name": "stderr",
     "output_type": "stream",
     "text": [
      "UsageError: Line magic function `%tensorflow_version` not found.\n"
     ]
    }
   ],
   "source": [
    "%tensorflow_version 2.x"
   ]
  },
  {
   "cell_type": "code",
   "execution_count": 2,
   "id": "3827cd0c",
   "metadata": {},
   "outputs": [
    {
     "name": "stderr",
     "output_type": "stream",
     "text": [
      "2023-03-31 10:18:16.943344: I tensorflow/core/platform/cpu_feature_guard.cc:193] This TensorFlow binary is optimized with oneAPI Deep Neural Network Library (oneDNN) to use the following CPU instructions in performance-critical operations:  SSE4.1 SSE4.2 AVX AVX2 FMA\n",
      "To enable them in other operations, rebuild TensorFlow with the appropriate compiler flags.\n"
     ]
    }
   ],
   "source": [
    "# import everything\n",
    "#%tensorflow_version 2.x\n",
    "import tensorflow as tf\n",
    "from tensorflow import keras\n",
    "import numpy as np\n",
    "import matplotlib.pyplot as plt\n",
    "from sklearn.model_selection import train_test_split"
   ]
  },
  {
   "cell_type": "code",
   "execution_count": null,
   "id": "9742d538",
   "metadata": {},
   "outputs": [],
   "source": [
    "def train_eval()\n",
    "    x_train, x_eval, y_train, y_eval = train_test_split(data, question, test_size=0.2,random_state=42)"
   ]
  },
  {
   "cell_type": "code",
   "execution_count": 5,
   "id": "69672764",
   "metadata": {},
   "outputs": [],
   "source": [
    "# test with tensorflow\n",
    "\n",
    "# make model\n",
    "model = tf.keras.models.Sequential([\n",
    "  tf.keras.layers.InputLayer(input_shape=(12,1)),\n",
    "  tf.keras.layers.Dense(2,activation='softmax')\n",
    "])\n"
   ]
  },
  {
   "cell_type": "code",
   "execution_count": null,
   "id": "855335db",
   "metadata": {},
   "outputs": [],
   "source": [
    "model.compile(optimizer='',\n",
    "              loss='',\n",
    "              metrics=['accuracy'])"
   ]
  },
  {
   "cell_type": "code",
   "execution_count": null,
   "id": "252970e3",
   "metadata": {},
   "outputs": [],
   "source": [
    "model.fit(train_images, train_labels, epochs=10)"
   ]
  },
  {
   "cell_type": "code",
   "execution_count": null,
   "id": "1ff9ed0e",
   "metadata": {},
   "outputs": [],
   "source": [
    "test_loss, test_acc = model.evaluate(test_images,  test_labels, verbose=1)"
   ]
  },
  {
   "cell_type": "code",
   "execution_count": null,
   "id": "dd165834",
   "metadata": {},
   "outputs": [],
   "source": []
  },
  {
   "cell_type": "code",
   "execution_count": null,
   "id": "b0354a1e",
   "metadata": {},
   "outputs": [],
   "source": [
    "# test with pyndl\n",
    "from pyndl import ndl\n",
    "import xarray  \n",
    "from pyndl import preprocess\n",
    "\n",
    "preprocess.create_event_file(corpus_file='../data/lcorpus.txt',\n",
    "                             event_file='../data/levent.tab.gz',\n",
    "                             allowed_symbols='a-zA-Z',\n",
    "                             context_structure='document',\n",
    "                             event_structure='consecutive_words',\n",
    "                             event_options=(1, ),\n",
    "                             cue_structure='bigrams_to_word')\n",
    "\n",
    "weights = ndl.ndl(events='../data/levent.tab.gz', alpha=0.1, betas=(0.1, 0.1), method=\"threading\")\n",
    "weights.to_netcdf('../data/weights.nc')\n",
    "\n",
    "with xarray.open_dataarray('../data/weights.nc') as weights_read:  \n",
    "    weights_read"
   ]
  }
 ],
 "metadata": {
  "kernelspec": {
   "display_name": "Python 3",
   "language": "python",
   "name": "python3"
  },
  "language_info": {
   "codemirror_mode": {
    "name": "ipython",
    "version": 3
   },
   "file_extension": ".py",
   "mimetype": "text/x-python",
   "name": "python",
   "nbconvert_exporter": "python",
   "pygments_lexer": "ipython3",
   "version": "3.10.9"
  }
 },
 "nbformat": 4,
 "nbformat_minor": 5
}
