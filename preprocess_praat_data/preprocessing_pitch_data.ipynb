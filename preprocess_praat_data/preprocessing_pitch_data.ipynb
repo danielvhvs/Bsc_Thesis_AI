{
 "cells": [
  {
   "cell_type": "code",
   "execution_count": 6,
   "id": "109fb429",
   "metadata": {},
   "outputs": [
    {
     "name": "stdout",
     "output_type": "stream",
     "text": [
      "87 581 274.62\n",
      "4.0 125.0 26.020408163265305\n",
      "17.0 577.0 250.44897959183675\n",
      "91 356 189.54\n",
      "2.0 111.0 21.4\n",
      "41.0 338.0 165.26\n"
     ]
    }
   ],
   "source": [
    "import numpy as np\n",
    "from scipy.interpolate import interp1d\n",
    "import os\n",
    "import shutil\n",
    "        \n",
    "delete_dir_content(\"./data\")\n",
    "all_preprocessing(\"pitch_data_statements\")\n",
    "all_preprocessing(\"pitch_data_questions\")"
   ]
  },
  {
   "cell_type": "code",
   "execution_count": null,
   "id": "1cdb4e4d",
   "metadata": {},
   "outputs": [],
   "source": []
  }
 ],
 "metadata": {
  "kernelspec": {
   "display_name": "Python 3",
   "language": "python",
   "name": "python3"
  },
  "language_info": {
   "codemirror_mode": {
    "name": "ipython",
    "version": 3
   },
   "file_extension": ".py",
   "mimetype": "text/x-python",
   "name": "python",
   "nbconvert_exporter": "python",
   "pygments_lexer": "ipython3",
   "version": "3.10.9"
  }
 },
 "nbformat": 4,
 "nbformat_minor": 5
}
