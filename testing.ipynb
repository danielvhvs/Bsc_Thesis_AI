{
 "cells": [
  {
   "cell_type": "code",
   "execution_count": 14,
   "metadata": {},
   "outputs": [
    {
     "name": "stdout",
     "output_type": "stream",
     "text": [
      "0\n",
      "1\n",
      "2\n",
      "3\n",
      "4\n",
      "5\n",
      "6\n",
      "7\n",
      "8\n",
      "9\n",
      "10\n",
      "11\n",
      "12\n",
      "13\n",
      "14\n",
      "15\n",
      "16\n",
      "17\n",
      "18\n",
      "19\n",
      "\n",
      "\n",
      "2\n",
      "3\n",
      "4\n"
     ]
    }
   ],
   "source": [
    "x = range(20)\n",
    "for i in x:\n",
    "    print(i)\n",
    "print(\"\\n\")\n",
    "x = range(20)\n",
    "y = x[2:5]\n",
    "for i in y:\n",
    "    print(i)"
   ]
  },
  {
   "cell_type": "code",
   "execution_count": 3,
   "metadata": {},
   "outputs": [
    {
     "name": "stdout",
     "output_type": "stream",
     "text": [
      "-0.9336458963496603\n"
     ]
    }
   ],
   "source": [
    "from scipy.interpolate import CubicSpline\n",
    "import numpy as np\n",
    "x = np.arange(10)\n",
    "y = np.cos(x)\n",
    "z = CubicSpline(x,y)\n",
    "print(z(3.5))"
   ]
  },
  {
   "cell_type": "code",
   "execution_count": 17,
   "metadata": {},
   "outputs": [
    {
     "name": "stdout",
     "output_type": "stream",
     "text": [
      "64505.450545054504\n"
     ]
    }
   ],
   "source": [
    "import numpy as np\n",
    "def f(T):\n",
    "    k = 1.381e-23\n",
    "    Ten = 32000\n",
    "    return (0.787-0.0230*np.log(T/10000))*T-3/2*Ten\n",
    "T = np.linspace(64000,65000,10000)\n",
    "y = f(T)\n",
    "for i,x in enumerate(y):\n",
    "    if x>0:\n",
    "        print(T[i])\n",
    "        break"
   ]
  },
  {
   "cell_type": "code",
   "execution_count": 17,
   "metadata": {},
   "outputs": [
    {
     "name": "stdout",
     "output_type": "stream",
     "text": [
      "/home/daniel/ai_thesis/data/yo.txt\n",
      "../data/yo.txt\n"
     ]
    }
   ],
   "source": [
    "import os\n",
    "fileName = \"data/yo.txt\"\n",
    "print(os.path.abspath(os.path.join(os.pardir,fileName)))\n",
    "print(os.path.join(os.pardir,fileName))"
   ]
  },
  {
   "cell_type": "code",
   "execution_count": 7,
   "metadata": {},
   "outputs": [
    {
     "name": "stdout",
     "output_type": "stream",
     "text": [
      "[1 4]\n",
      "[2 5]\n",
      "[3 6]\n"
     ]
    }
   ],
   "source": [
    "import numpy as np\n",
    "x = np.array([[1,2,3],[4,5,6]])\n",
    "for i in range(len(x[0])):\n",
    "    print(x[::,i])"
   ]
  },
  {
   "cell_type": "code",
   "execution_count": 3,
   "metadata": {},
   "outputs": [
    {
     "name": "stdout",
     "output_type": "stream",
     "text": [
      "[7, 5, 1, 4, 2, 8, 9, 6]\n",
      "[3, 10]\n",
      "[7, 5, 1, 4, 2, 8, 9, 6]\n",
      "[3, 10]\n",
      "\n",
      "\n",
      "[14, 10, 2, 8, 4, 16, 18, 12]\n",
      "[6, 20]\n",
      "['g', 'e', 'a', 'd', 'b', 'h', 'i', 'f']\n",
      "['c', 'j']\n"
     ]
    }
   ],
   "source": [
    "from sklearn.model_selection import train_test_split\n",
    "x = [1,2,3,4,5,6,7,8,9,10]\n",
    "y = [1,2,3,4,5,6,7,8,9,10]\n",
    "a = [2,4,6,8,10,12,14,16,18,20]\n",
    "b = [\"a\",\"b\",\"c\",\"d\",\"e\",\"f\",\"g\",\"h\",\"i\",\"j\",]\n",
    "x_train, x_test, y_train, y_test = train_test_split(x,y, test_size=0.2,random_state=1)\n",
    "print(x_train)\n",
    "print(x_test)\n",
    "print(y_train)\n",
    "print(y_test)\n",
    "print(\"\\n\")\n",
    "x_train, x_test, y_train, y_test = train_test_split(a,b, test_size=0.2,random_state=1)\n",
    "print(x_train)\n",
    "print(x_test)\n",
    "print(y_train)\n",
    "print(y_test)"
   ]
  },
  {
   "cell_type": "code",
   "execution_count": null,
   "metadata": {},
   "outputs": [],
   "source": []
  }
 ],
 "metadata": {
  "kernelspec": {
   "display_name": "Python 3",
   "language": "python",
   "name": "python3"
  },
  "language_info": {
   "codemirror_mode": {
    "name": "ipython",
    "version": 3
   },
   "file_extension": ".py",
   "mimetype": "text/x-python",
   "name": "python",
   "nbconvert_exporter": "python",
   "pygments_lexer": "ipython3",
   "version": "3.7.6"
  }
 },
 "nbformat": 4,
 "nbformat_minor": 5
}
