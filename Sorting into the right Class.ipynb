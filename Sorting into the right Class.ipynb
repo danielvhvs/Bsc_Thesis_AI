{
 "cells": [
  {
   "cell_type": "code",
   "execution_count": 13,
   "id": "1eb7151f",
   "metadata": {},
   "outputs": [
    {
     "name": "stdout",
     "output_type": "stream",
     "text": [
      "437 1381\n",
      "942 2979\n"
     ]
    }
   ],
   "source": [
    "import os\n",
    "import shutil\n",
    "\n",
    "def rearange_files(fileName,dirName):\n",
    "    source = \"./\"+dirName+\"/\"\n",
    "    if not os.path.exists(\"./statement_sentences\"):\n",
    "        os.makedirs(\"./statement_sentences\")\n",
    "    if not os.path.exists(\"./question_sentences\"):\n",
    "        os.makedirs(\"./question_sentences\")\n",
    "    questions = []\n",
    "    statements = []\n",
    "    with open(fileName,\"r\") as file_read:\n",
    "        for line in file_read:\n",
    "            split = line.split(\"\\t\")\n",
    "            if split[1][0]==\"¿\":\n",
    "                questions.append(split)\n",
    "                desination = \"./question_sentences/\"\n",
    "            else:\n",
    "                statements.append(split)\n",
    "                desination = \"./statement_sentences/\"\n",
    "            src_path = source+split[0]+\".wav\"\n",
    "            dst_path = desination+split[0]+\".wav\"\n",
    "            shutil.copy(src_path,dst_path)\n",
    "    file_read.close()\n",
    "    print(len(questions),len(statements))\n",
    "    with open(\"line_index_questions.txt\",\"a\") as file_write_q:\n",
    "        for q in questions:\n",
    "            file_write_q.write(q[0]+\"\\t\"+q[1])\n",
    "    file_write_q.close()\n",
    "    with open(\"line_index_statements.txt\",\"a\") as file_write_s:\n",
    "        for s in statements:\n",
    "            file_write_s.write(s[0]+\"\\t\"+s[1])\n",
    "    file_write_s.close()\n",
    "\n",
    "def rearange_all():\n",
    "    rearange_files(\"line_index_male.tsv\",\"es_ar_male\")\n",
    "    rearange_files(\"line_index_female.tsv\",\"es_ar_female\")\n",
    "    \n",
    "rearange_all()"
   ]
  },
  {
   "cell_type": "code",
   "execution_count": null,
   "id": "edbe30e6",
   "metadata": {},
   "outputs": [],
   "source": []
  }
 ],
 "metadata": {
  "kernelspec": {
   "display_name": "Python 3",
   "language": "python",
   "name": "python3"
  },
  "language_info": {
   "codemirror_mode": {
    "name": "ipython",
    "version": 3
   },
   "file_extension": ".py",
   "mimetype": "text/x-python",
   "name": "python",
   "nbconvert_exporter": "python",
   "pygments_lexer": "ipython3",
   "version": "3.8.10"
  }
 },
 "nbformat": 4,
 "nbformat_minor": 5
}
