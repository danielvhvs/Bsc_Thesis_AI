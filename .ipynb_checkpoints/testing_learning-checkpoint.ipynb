{
 "cells": [
  {
   "cell_type": "code",
   "execution_count": 1,
   "id": "b58378f2",
   "metadata": {},
   "outputs": [
    {
     "name": "stderr",
     "output_type": "stream",
     "text": [
      "UsageError: Line magic function `%tensorflow_version` not found.\n"
     ]
    }
   ],
   "source": [
    "%tensorflow_version 2.x"
   ]
  },
  {
   "cell_type": "code",
   "execution_count": 2,
   "id": "9360d1b5",
   "metadata": {},
   "outputs": [
    {
     "name": "stderr",
     "output_type": "stream",
     "text": [
      "2023-03-31 10:18:16.943344: I tensorflow/core/platform/cpu_feature_guard.cc:193] This TensorFlow binary is optimized with oneAPI Deep Neural Network Library (oneDNN) to use the following CPU instructions in performance-critical operations:  SSE4.1 SSE4.2 AVX AVX2 FMA\n",
      "To enable them in other operations, rebuild TensorFlow with the appropriate compiler flags.\n"
     ]
    }
   ],
   "source": [
    "# import everything\n",
    "#%tensorflow_version 2.x\n",
    "import tensorflow as tf\n",
    "from tensorflow import keras\n",
    "import numpy as np\n",
    "import matplotlib.pyplot as plt\n",
    "from sklearn.model_selection import train_test_split"
   ]
  },
  {
   "cell_type": "code",
   "execution_count": null,
   "id": "cbfea83c",
   "metadata": {},
   "outputs": [],
   "source": [
    "def train_eval()\n",
    "    x_train, x_eval, y_train, y_eval = train_test_split(data, question, test_size=0.2,random_state=42)"
   ]
  },
  {
   "cell_type": "code",
   "execution_count": 5,
   "id": "fbe3b613",
   "metadata": {},
   "outputs": [],
   "source": [
    "# test with tensorflow\n",
    "\n",
    "# make model\n",
    "model = tf.keras.models.Sequential([\n",
    "  tf.keras.layers.InputLayer(input_shape=(12,1)),\n",
    "  tf.keras.layers.Dense(2,activation='softmax')\n",
    "])\n"
   ]
  },
  {
   "cell_type": "code",
   "execution_count": null,
   "id": "e87b7b79",
   "metadata": {},
   "outputs": [],
   "source": [
    "model.compile(optimizer='',\n",
    "              loss='',\n",
    "              metrics=['accuracy'])"
   ]
  },
  {
   "cell_type": "code",
   "execution_count": null,
   "id": "e8b20af7",
   "metadata": {},
   "outputs": [],
   "source": [
    "model.fit(train_images, train_labels, epochs=10)"
   ]
  },
  {
   "cell_type": "code",
   "execution_count": null,
   "id": "5bc25c01",
   "metadata": {},
   "outputs": [],
   "source": [
    "test_loss, test_acc = model.evaluate(test_images,  test_labels, verbose=1)"
   ]
  },
  {
   "cell_type": "code",
   "execution_count": null,
   "id": "b2ecc5bf",
   "metadata": {},
   "outputs": [],
   "source": []
  },
  {
   "cell_type": "code",
   "execution_count": 1,
   "id": "4b80efdb",
   "metadata": {},
   "outputs": [
    {
     "ename": "ModuleNotFoundError",
     "evalue": "No module named 'pyndl'",
     "output_type": "error",
     "traceback": [
      "\u001b[0;31m---------------------------------------------------------------------------\u001b[0m",
      "\u001b[0;31mModuleNotFoundError\u001b[0m                       Traceback (most recent call last)",
      "Cell \u001b[0;32mIn[1], line 2\u001b[0m\n\u001b[1;32m      1\u001b[0m \u001b[38;5;66;03m# test with pyndl\u001b[39;00m\n\u001b[0;32m----> 2\u001b[0m \u001b[38;5;28;01mfrom\u001b[39;00m \u001b[38;5;21;01mpyndl\u001b[39;00m \u001b[38;5;28;01mimport\u001b[39;00m ndl\n\u001b[1;32m      3\u001b[0m \u001b[38;5;28;01mimport\u001b[39;00m \u001b[38;5;21;01mxarray\u001b[39;00m  \n\u001b[1;32m      4\u001b[0m \u001b[38;5;28;01mfrom\u001b[39;00m \u001b[38;5;21;01mpyndl\u001b[39;00m \u001b[38;5;28;01mimport\u001b[39;00m preprocess\n",
      "\u001b[0;31mModuleNotFoundError\u001b[0m: No module named 'pyndl'"
     ]
    }
   ],
   "source": [
    "# test with pyndl\n",
    "from pyndl import ndl\n",
    "import xarray  \n",
    "from pyndl import preprocess\n",
    "\n",
    "preprocess.create_event_file(corpus_file='./lcorpus.txt',\n",
    "                             event_file='./levent.tab.gz',\n",
    "                             allowed_symbols='a-zA-Z',\n",
    "                             context_structure='document',\n",
    "                             event_structure='consecutive_words',\n",
    "                             event_options=(1, ),\n",
    "                             cue_structure='bigrams_to_word')\n",
    "\n",
    "weights = ndl.ndl(events='./levent.tab.gz', alpha=0.1, betas=(0.1, 0.1), method=\"threading\")\n",
    "weights.to_netcdf('./weights.nc')\n",
    "\n",
    "with xarray.open_dataarray('./weights.nc') as weights_read:  \n",
    "    weights_read"
   ]
  },
  {
   "cell_type": "code",
   "execution_count": null,
   "id": "5e8f5ed6",
   "metadata": {},
   "outputs": [],
   "source": []
  }
 ],
 "metadata": {
  "kernelspec": {
   "display_name": "Python 3",
   "language": "python",
   "name": "python3"
  },
  "language_info": {
   "codemirror_mode": {
    "name": "ipython",
    "version": 3
   },
   "file_extension": ".py",
   "mimetype": "text/x-python",
   "name": "python",
   "nbconvert_exporter": "python",
   "pygments_lexer": "ipython3",
   "version": "3.10.9"
  }
 },
 "nbformat": 4,
 "nbformat_minor": 5
}
