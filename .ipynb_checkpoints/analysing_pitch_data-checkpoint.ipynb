{
 "cells": [
  {
   "cell_type": "code",
   "execution_count": 6,
   "id": "795437bd",
   "metadata": {},
   "outputs": [
    {
     "data": {
      "image/png": "[encoded data removed]",
      "text/plain": [
       "<Figure size 432x288 with 1 Axes>"
      ]
     },
     "metadata": {
      "needs_background": "light"
     },
     "output_type": "display_data"
    }
   ],
   "source": [
    "import numpy as np\n",
    "from matplotlib import pyplot as plt\n",
    "\n",
    "def read_file(fileName):\n",
    "    data = []\n",
    "    time = []\n",
    "    with open(fileName,\"r\") as file:\n",
    "        for line in file:\n",
    "            split = line.split()\n",
    "            sound = []\n",
    "            soundTime = []\n",
    "            for idx in range(len(split)//2):\n",
    "                soundTime.append(float(split[idx*2]))\n",
    "                sound.append(float(split[idx*2+1]))\n",
    "            data.append(sound)\n",
    "            time.append(soundTime)\n",
    "    return time,data\n",
    "\n",
    "def read_file2(fileIN):\n",
    "    data = []\n",
    "    with open(fileIN,\"r\") as file:\n",
    "        for line in file:\n",
    "            split = line.split()\n",
    "            sentence = []\n",
    "            for word in split:\n",
    "                sentence.append(float(word))\n",
    "            data.append(sentence)\n",
    "    file.close()\n",
    "    return data\n",
    "\n",
    "def plot_pitch_data(data):\n",
    "    fig,frame = plt.subplots(1,1)\n",
    "    psize = 2\n",
    "    for sound in data:\n",
    "        time = np.arange(0,len(sound)*0.01,0.01)\n",
    "        frame.scatter(time,sound,s=psize)\n",
    "    plt.show()\n",
    "\n",
    "def test_single_plot(time,sound):\n",
    "    fig,frame = plt.subplots(1,1)\n",
    "    psize = 2\n",
    "    frame.scatter(time,sound,s=psize)\n",
    "    plt.show()\n",
    "\n",
    "time = read_file2(\"pitch_data_questions_processed_time.txt\")\n",
    "pitch = read_file2(\"pitch_data_questions_processed_pitch.txt\")\n",
    "#plot_pitch_data(data)\n",
    "N = 0\n",
    "test_single_plot(range(len(pitch[N])),pitch[N])"
   ]
  },
  {
   "cell_type": "code",
   "execution_count": null,
   "id": "89c40947",
   "metadata": {},
   "outputs": [],
   "source": []
  }
 ],
 "metadata": {
  "kernelspec": {
   "display_name": "Python 3",
   "language": "python",
   "name": "python3"
  },
  "language_info": {
   "codemirror_mode": {
    "name": "ipython",
    "version": 3
   },
   "file_extension": ".py",
   "mimetype": "text/x-python",
   "name": "python",
   "nbconvert_exporter": "python",
   "pygments_lexer": "ipython3",
   "version": "3.8.10"
  }
 },
 "nbformat": 4,
 "nbformat_minor": 5
}
