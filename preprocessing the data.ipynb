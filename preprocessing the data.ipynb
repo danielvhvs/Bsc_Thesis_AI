{
 "cells": [
  {
   "cell_type": "code",
   "execution_count": 9,
   "id": "f4e0a357",
   "metadata": {},
   "outputs": [],
   "source": [
    "import os\n",
    "import shutil\n",
    "\n",
    "def remove_extra_questions():\n",
    "    if not os.path.exists(\"./filtered_statement_sentences\"):\n",
    "        os.makedirs(\"./filtered_statement_sentences\")\n",
    "    fileName = \"line_index_statements.txt\"\n",
    "    filtered_statements = []\n",
    "    with open(fileName,\"r\") as file_read:\n",
    "        for line in file_read:\n",
    "            split = line.split(\"\\t\")\n",
    "            flag = False\n",
    "            if \"?\" in split[1]:\n",
    "                flag = True\n",
    "            if not flag:\n",
    "                filtered_statements.append(split)\n",
    "                src_path = \"./statement_sentences/\"+split[0]+\".wav\"\n",
    "                dst_path = \"./filtered_statement_sentences/\"+split[0]+\".wav\"\n",
    "                shutil.copy(src_path,dst_path)\n",
    "            \n",
    "    with open(\"line_index_filtered_statements.txt\",\"a\") as file_write_s:\n",
    "        for s in filtered_statements:\n",
    "            file_write_s.write(s[0]+\"\\t\"+s[1])\n",
    "    file_write_s.close()\n",
    "    \n",
    "\n",
    "remove_extra_questions()"
   ]
  },
  {
   "cell_type": "code",
   "execution_count": null,
   "id": "d9811e02",
   "metadata": {},
   "outputs": [],
   "source": []
  }
 ],
 "metadata": {
  "kernelspec": {
   "display_name": "Python 3",
   "language": "python",
   "name": "python3"
  },
  "language_info": {
   "codemirror_mode": {
    "name": "ipython",
    "version": 3
   },
   "file_extension": ".py",
   "mimetype": "text/x-python",
   "name": "python",
   "nbconvert_exporter": "python",
   "pygments_lexer": "ipython3",
   "version": "3.8.10"
  }
 },
 "nbformat": 4,
 "nbformat_minor": 5
}
